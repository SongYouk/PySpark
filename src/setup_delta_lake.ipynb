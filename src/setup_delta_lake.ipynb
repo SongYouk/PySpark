{
 "cells": [
  {
   "cell_type": "code",
   "execution_count": 8,
   "metadata": {},
   "outputs": [],
   "source": [
    "from pyspark import SparkConf\n",
    "from pyspark.sql import SparkSession\n",
    "\n",
    "import pyspark\n",
    "from delta import *\n",
    "\n",
    "builder = pyspark.sql.SparkSession.builder.appName(\"MyApp\") \\\n",
    "    .config(\"spark.sql.extensions\", \"io.delta.sql.DeltaSparkSessionExtension\") \\\n",
    "    .config(\"spark.sql.catalog.spark_catalog\", \"org.apache.spark.sql.delta.catalog.DeltaCatalog\")\n",
    "\n",
    "spark = configure_spark_with_delta_pip(builder).getOrCreate()\n",
    "\n",
    "countries = spark.read.csv(\"/workspaces/PySpark/datatrainadls2/raw/countries.csv\", header=True)"
   ]
  },
  {
   "cell_type": "code",
   "execution_count": 2,
   "metadata": {},
   "outputs": [
    {
     "name": "stdout",
     "output_type": "stream",
     "text": [
      "+----------+-------------------+--------------------+------------+----------+----------------+----------+--------+---------+-------------+----------------------+----------------------+\n",
      "|COUNTRY_ID|               NAME|         NATIONALITY|COUNTRY_CODE|ISO_ALPHA2|         CAPITAL|POPULATION|AREA_KM2|REGION_ID|SUB_REGION_ID|INTERMEDIATE_REGION_ID|ORGANIZATION_REGION_ID|\n",
      "+----------+-------------------+--------------------+------------+----------+----------------+----------+--------+---------+-------------+----------------------+----------------------+\n",
      "|         1|        Afghanistan|              Afghan|         AFG|        AF|           Kabul|  38041754|  652230|       30|           30|                  NULL|                    30|\n",
      "|         2|            Albania|            Albanian|         ALB|        AL|          Tirana|   2880917|   28748|       20|           70|                  NULL|                    20|\n",
      "|         3|            Algeria|            Algerian|         DZA|        DZ|         Algiers|  43053054| 2381741|       50|           40|                  NULL|                    20|\n",
      "|         4|     American Samoa|     American Samoan|         ASM|        AS|       Pago Pago|     55312|     199|       40|           20|                  NULL|                    30|\n",
      "|         5|            Andorra|            Andorran|         AND|        AD|Andorra la Vella|     77142|     468|       20|           70|                  NULL|                    20|\n",
      "|         6|             Angola|             Angolan|         AGO|        AO|          Luanda|  31825295| 1246700|       50|          160|                    80|                    20|\n",
      "|         7|           Anguilla|           Anguillan|         AIA|        AI|      The Valley|     14869|      91|       10|           10|                    60|                    40|\n",
      "|         8|         Antarctica|           Antarctic|         ATA|        AQ| McMurdo Station|      1106|14200000|       40|         NULL|                  NULL|                    30|\n",
      "|         9|Antigua and Barbuda|Antiguan or Barbudan|         ATG|        AG|      St. John's|     97118|     442|       10|           10|                    60|                    40|\n",
      "|        10|          Argentina|           Argentine|         ARG|        AR|    Buenos Aires|  44780677| 2780400|       10|           10|                    40|                    40|\n",
      "|        11|            Armenia|            Armenian|         ARM|        AM|         Yerevan|   2957731|   29743|       30|          170|                  NULL|                    30|\n",
      "|        12|              Aruba|              Aruban|         ABW|        AW|      Oranjestad|    106314|     180|       10|           10|                    60|                    40|\n",
      "|        13|          Australia|          Australian|         AUS|        AU|        Canberra|  25203198| 7692024|       40|           90|                  NULL|                    30|\n",
      "|        14|            Austria|            Austrian|         AUT|        AT|          Vienna|   8955102|   83871|       20|          150|                  NULL|                    20|\n",
      "|        15|         Azerbaijan|         Azerbaijani|         AZE|        AZ|            Baku|  10047718|   86600|       30|          170|                  NULL|                    30|\n",
      "|        16|            Bahamas|            Bahamian|         BHS|        BS|          Nassau|    389482|   13943|       10|           10|                    60|                    40|\n",
      "|        17|            Bahrain|            Bahraini|         BHR|        BH|          Manama|   1641172|     765|       30|          170|                  NULL|                    30|\n",
      "|        18|         Bangladesh|         Bangladeshi|         BGD|        BD|           Dhaka| 163046161|  147570|       30|           30|                  NULL|                    30|\n",
      "|        19|           Barbados|           Barbadian|         BRB|        BB|      Bridgetown|    287025|     430|       10|           10|                    60|                    40|\n",
      "|        20|            Belarus|          Belarusian|         BLR|        BY|           Minsk|   9452411|  207600|       20|          140|                  NULL|                    20|\n",
      "+----------+-------------------+--------------------+------------+----------+----------------+----------+--------+---------+-------------+----------------------+----------------------+\n",
      "only showing top 20 rows\n",
      "\n"
     ]
    }
   ],
   "source": [
    "countries.show()"
   ]
  },
  {
   "cell_type": "code",
   "execution_count": 6,
   "metadata": {},
   "outputs": [],
   "source": [
    "spark.conf.set(\"fs.azure.account.key.datatrainadls2.dfs.core.windows.net\", \"2ivvCahbvGLMNawvnUOfI2i5a9mJdPQLR1tNGbAEkNbRS6t17ZZXL1U09QPK0cBy4+/AYi1OtOOh+AStBegyAg==\")"
   ]
  },
  {
   "cell_type": "code",
   "execution_count": 7,
   "metadata": {},
   "outputs": [
    {
     "name": "stderr",
     "output_type": "stream",
     "text": [
      "                                                                                \r"
     ]
    }
   ],
   "source": [
    "# create temp view\n",
    "countries.createOrReplaceTempView(\"countries\")\n",
    "\n",
    "# write to parquet with option overwrite to overwrite existing file\n",
    "# spark.sql(\"SELECT * FROM countries\").write.mode(\"overwrite\").csv(\"/workspaces/PySpark/datatrainadls2/bronze/countries_new.csv\")\n",
    "# countries.write.mode(\"overwrite\").parquet(\"/workspaces/PySpark/input/bronze/ountries_parquet\")\n",
    "# write to delta\n",
    "countries.write.mode(\"overwrite\").format(\"delta\").save(\"/workspaces/PySpark/datatrainadls2/bronze/countries_dt\")"
   ]
  }
 ],
 "metadata": {
  "kernelspec": {
   "display_name": "Python 3",
   "language": "python",
   "name": "python3"
  },
  "language_info": {
   "codemirror_mode": {
    "name": "ipython",
    "version": 3
   },
   "file_extension": ".py",
   "mimetype": "text/x-python",
   "name": "python",
   "nbconvert_exporter": "python",
   "pygments_lexer": "ipython3",
   "version": "3.8.10"
  }
 },
 "nbformat": 4,
 "nbformat_minor": 2
}
